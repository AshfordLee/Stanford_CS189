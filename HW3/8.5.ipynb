{
 "cells": [
  {
   "cell_type": "markdown",
   "id": "63d84620",
   "metadata": {},
   "source": [
    "# 8.5\n"
   ]
  },
  {
   "cell_type": "markdown",
   "id": "524614ef",
   "metadata": {},
   "source": [
    "# LDA\n"
   ]
  },
  {
   "cell_type": "code",
   "execution_count": 1,
   "id": "c2c6a370",
   "metadata": {},
   "outputs": [],
   "source": [
    "import numpy as np\n",
    "import matplotlib.pyplot as plt\n",
    "import scipy"
   ]
  },
  {
   "cell_type": "code",
   "execution_count": 2,
   "id": "e8bf3e0b",
   "metadata": {},
   "outputs": [
    {
     "data": {
      "text/plain": [
       "KeysView(NpzFile './data/spam-data-hw3.npz' with keys: training_data, training_labels, test_data)"
      ]
     },
     "execution_count": 2,
     "metadata": {},
     "output_type": "execute_result"
    }
   ],
   "source": [
    "data=np.load(\"./data/spam-data-hw3.npz\")\n",
    "data.keys()"
   ]
  },
  {
   "cell_type": "code",
   "execution_count": 3,
   "id": "c52481be",
   "metadata": {},
   "outputs": [],
   "source": [
    "training_data=data['training_data']\n",
    "training_label=data['training_labels']\n"
   ]
  },
  {
   "cell_type": "code",
   "execution_count": 4,
   "id": "db52a2e3",
   "metadata": {},
   "outputs": [],
   "source": [
    "def compute_lda_parameters(X_train,y_train,regularization=1e-3):\n",
    "    n_classes=len(np.unique(y_train))\n",
    "    n_features=X_train.shape[1]\n",
    "\n",
    "    means=np.zeros((n_classes,n_features))\n",
    "    for c in range(n_classes):\n",
    "        class_mask=(y_train==c)\n",
    "        means[c]=np.mean(X_train[class_mask],axis=0)\n",
    "\n",
    "    pooled_cov=np.zeros((n_features,n_features))\n",
    "    total_samples=len(X_train)\n",
    "\n",
    "    for c in range(n_classes):\n",
    "        class_mask=(y_train==c)\n",
    "        class_data=X_train[class_mask]\n",
    "        n_class_samples=len(class_data)\n",
    "\n",
    "        if n_class_samples>1:\n",
    "            centered_data=class_data-means[c]\n",
    "            class_cov=np.dot(centered_data.T,centered_data)/(n_class_samples-1)\n",
    "\n",
    "            pooled_cov+=(n_class_samples/total_samples)*class_cov\n",
    "\n",
    "    pooled_cov+=regularization*np.eye(n_features)\n",
    "\n",
    "    return means,pooled_cov"
   ]
  },
  {
   "cell_type": "code",
   "execution_count": 5,
   "id": "2980abc8",
   "metadata": {},
   "outputs": [],
   "source": [
    "def lda_predict(X,means,pooled_cov,prior_probs):\n",
    "    n_samples,n_features=X.shape\n",
    "    n_classes=len(means)\n",
    "\n",
    "    try:\n",
    "        inv_cov=np.linalg.inv(pooled_cov)\n",
    "    except np.linalg.LinAlgError:\n",
    "        reg_cov=pooled_cov+1e-6*np.eye(n_features)\n",
    "        inv_cov=np.linalg.inv(reg_cov)\n",
    "\n",
    "    log_posterior=np.zeros((n_samples,n_classes))\n",
    "\n",
    "    for c in range(n_classes):\n",
    "        linear_term=np.dot(X,np.dot(inv_cov,means[c]))\n",
    "        constant_term=-0.5*np.dot(means[c],np.dot(inv_cov,means[c]))\n",
    "        log_posterior[:,c]=linear_term+constant_term+np.log(prior_probs[c])\n",
    "\n",
    "\n",
    "    return np.argmax(log_posterior,axis=1)\n",
    "\n"
   ]
  },
  {
   "cell_type": "code",
   "execution_count": 6,
   "id": "f2e1cbb4",
   "metadata": {},
   "outputs": [],
   "source": [
    "def split_data(X,y,test_size=10000,random_state=42):\n",
    "    np.random.seed(random_state)\n",
    "    n_samples=len(X)\n",
    "    indices=np.random.permutation(n_samples)\n",
    "\n",
    "    train_indices=indices[test_size:]\n",
    "    val_indices=indices[:test_size]\n",
    "\n",
    "    return X[train_indices],X[val_indices],y[train_indices],y[val_indices]"
   ]
  },
  {
   "cell_type": "code",
   "execution_count": 7,
   "id": "bffe8ed5",
   "metadata": {},
   "outputs": [],
   "source": [
    "def experiment_lda_sizes(X_train, y_train, X_val, y_val):\n",
    "    sizes = [100, 200, 500, 1000, 2000, 5000, 10000, 30000, 50000]\n",
    "    error_rates = []\n",
    "\n",
    "    for size in sizes:\n",
    "        if size>len(X_train):\n",
    "            continue\n",
    "\n",
    "        indices=np.random.choice(len(X_train),size=size,replace=False)\n",
    "        X_subset=X_train[indices]\n",
    "        y_subset=y_train[indices]\n",
    "\n",
    "        means,pooled_cov=compute_lda_parameters(X_subset,y_subset)\n",
    "        prior_probs=np.bincount(y_subset)/len(y_subset)\n",
    "        \n",
    "        predictions=lda_predict(X_val,means,pooled_cov,prior_probs)\n",
    "\n",
    "        error_rate=1-np.mean(predictions==y_val)\n",
    "        error_rates.append(error_rate)\n",
    "\n",
    "        print(f\"Size: {size}, Error Rate: {error_rate:.4f}\")\n",
    "\n",
    "    \n",
    "    return sizes[:len(error_rates)],error_rates"
   ]
  },
  {
   "cell_type": "code",
   "execution_count": 8,
   "id": "0d9c30c4",
   "metadata": {},
   "outputs": [],
   "source": [
    "def plot_error_rates(sizes,error_rates):\n",
    "    plt.figure(figsize=(10,6))\n",
    "    plt.plot(sizes,error_rates,'bo-',linewidth=2,markersize=8)\n",
    "\n",
    "    plt.xlabel('Training Set Size')\n",
    "    plt.ylabel('Error Rate')\n",
    "    plt.title('LDA Error Rate vs Training Set Size')\n",
    "    plt.grid(True,alpha=0.3)\n",
    "    plt.show()\n",
    "\n",
    "    \n",
    "\n"
   ]
  },
  {
   "cell_type": "code",
   "execution_count": 9,
   "id": "c69376dd",
   "metadata": {},
   "outputs": [
    {
     "data": {
      "image/png": "[encoded data removed]",
      "text/plain": [
       "<Figure size 1000x600 with 1 Axes>"
      ]
     },
     "metadata": {},
     "output_type": "display_data"
    }
   ],
   "source": [
    "np.random.seed(42)\n",
    "X_train,X_val,y_train,y_val=split_data(training_data,training_label,test_size=5000)\n",
    "\n",
    "sizes,error_rates=experiment_lda_sizes(X_train,y_train,X_val,y_val)\n",
    "# 运行一次调试版本\n",
    "\n",
    "plot_error_rates(sizes,error_rates)\n",
    "\n"
   ]
  },
  {
   "cell_type": "markdown",
   "id": "100aef68",
   "metadata": {},
   "source": [
    "# QDA"
   ]
  },
  {
   "cell_type": "code",
   "execution_count": 10,
   "id": "6e894b6a",
   "metadata": {},
   "outputs": [
    {
     "data": {
      "text/plain": [
       "KeysView(NpzFile './data/spam-data-hw3.npz' with keys: training_data, training_labels, test_data)"
      ]
     },
     "execution_count": 10,
     "metadata": {},
     "output_type": "execute_result"
    }
   ],
   "source": [
    "data=np.load(\"./data/spam-data-hw3.npz\")\n",
    "data.keys()"
   ]
  },
  {
   "cell_type": "code",
   "execution_count": 11,
   "id": "f7ae11a9",
   "metadata": {},
   "outputs": [],
   "source": [
    "training_data=data['training_data']\n",
    "training_label=data['training_labels']\n"
   ]
  },
  {
   "cell_type": "code",
   "execution_count": 12,
   "id": "c621887a",
   "metadata": {},
   "outputs": [],
   "source": [
    "def compute_qda_parameters(X_train,y_train,regularization=1e-3):\n",
    "    n_classes=len(np.unique(y_train))\n",
    "    n_features=X_train.shape[1]\n",
    "\n",
    "    means=np.zeros((n_classes,n_features))\n",
    "    covs=np.zeros((n_classes,n_features,n_features))\n",
    "    \n",
    "    for c in range(n_classes):\n",
    "        class_mask=(y_train==c)\n",
    "        class_data=X_train[class_mask]\n",
    "        n_class_samples=len(class_data)\n",
    "\n",
    "        means[c]=np.mean(class_data,axis=0)\n",
    "\n",
    "        if n_class_samples>1:\n",
    "            centered_data=class_data-means[c]\n",
    "            class_cov=np.dot(centered_data.T,centered_data)/(n_class_samples-1)\n",
    "            covs[c]=class_cov+regularization*np.eye(n_features)\n",
    "\n",
    "        else:\n",
    "            covs[c]=regularization*np.eye(n_features)\n",
    "\n",
    "    return means,covs\n",
    "            "
   ]
  },
  {
   "cell_type": "code",
   "execution_count": 13,
   "id": "d9db7fd0",
   "metadata": {},
   "outputs": [],
   "source": [
    "def qda_predict(X,means,covs,prior_probs):\n",
    "    n_samples,n_features=X.shape\n",
    "    n_classes=len(means)\n",
    "\n",
    "    log_posterior=np.zeros((n_samples,n_classes))\n",
    "    \n",
    "    for c in range(n_classes):\n",
    "        try:\n",
    "            inv_cov=np.linalg.inv(covs[c])\n",
    "            sign,logdet_cov=np.linalg.slogdet(covs[c])\n",
    "\n",
    "        except np.linalg.LinAlgError:\n",
    "            reg_cov=covs[c]+1e-6*np.eye(n_features)\n",
    "            inv_cov=np.linalg.inv(reg_cov)\n",
    "            sign,logdet_cov=np.linalg.slogdet(reg_cov)\n",
    "\n",
    "        diff=X-means[c]\n",
    "        quadratic=-0.5*np.sum(np.dot(diff,inv_cov)*diff,axis=1)\n",
    "        logdet_term=-0.5*logdet_cov\n",
    "        constant_term=-0.5*n_features*np.log(2*np.pi)\n",
    "        prior_term=np.log(prior_probs[c])\n",
    "\n",
    "        log_posterior[:,c]=quadratic+logdet_term+constant_term+prior_term\n",
    "\n",
    "    return np.argmax(log_posterior,axis=1)\n",
    "\n",
    "    \n"
   ]
  },
  {
   "cell_type": "code",
   "execution_count": 14,
   "id": "486303dd",
   "metadata": {},
   "outputs": [],
   "source": [
    "def experiment_qda_sizes(X_train, y_train, X_val, y_val):\n",
    "    sizes = [100, 200, 500, 1000, 2000, 5000, 10000, 30000, 50000]\n",
    "    error_rates = []\n",
    "    \n",
    "    for size in sizes:\n",
    "        if size > len(X_train):\n",
    "            continue\n",
    "            \n",
    "        indices = np.random.choice(len(X_train), size=size, replace=False)\n",
    "        X_subset = X_train[indices]\n",
    "        y_subset = y_train[indices]\n",
    "        \n",
    "        means, covariances = compute_qda_parameters(X_subset, y_subset)\n",
    "        prior_probs = np.bincount(y_subset, minlength=10) / len(y_subset)\n",
    "        \n",
    "        predictions = qda_predict(X_val, means, covariances, prior_probs)\n",
    "        \n",
    "        error_rate = 1 - np.mean(predictions == y_val)\n",
    "        error_rates.append(error_rate)\n",
    "        \n",
    "        print(f\"QDA Size: {size}, Error Rate: {error_rate:.4f}\")\n",
    "    \n",
    "    return sizes[:len(error_rates)], error_rates"
   ]
  },
  {
   "cell_type": "code",
   "execution_count": 15,
   "id": "cc5eb22a",
   "metadata": {},
   "outputs": [
    {
     "data": {
      "image/png": "[encoded data removed]",
      "text/plain": [
       "<Figure size 1000x600 with 1 Axes>"
      ]
     },
     "metadata": {},
     "output_type": "display_data"
    }
   ],
   "source": [
    "np.random.seed(42)\n",
    "X_train,X_val,y_train,y_val=split_data(training_data,training_label,test_size=5000)\n",
    "\n",
    "sizes,error_rates=experiment_qda_sizes(X_train,y_train,X_val,y_val)\n",
    "# 运行一次调试版本\n",
    "\n",
    "plot_error_rates(sizes,error_rates)\n",
    "\n"
   ]
  },
  {
   "cell_type": "markdown",
   "id": "91058d27",
   "metadata": {},
   "source": [
    "# TEST RUN"
   ]
  },
  {
   "cell_type": "code",
   "execution_count": 16,
   "id": "1a440f4a",
   "metadata": {},
   "outputs": [
    {
     "data": {
      "text/plain": [
       "array([[0., 0., 0., ..., 0., 0., 0.],\n",
       "       [0., 0., 0., ..., 1., 0., 0.],\n",
       "       [0., 0., 0., ..., 1., 0., 0.],\n",
       "       ...,\n",
       "       [0., 0., 0., ..., 1., 0., 0.],\n",
       "       [0., 0., 0., ..., 0., 0., 0.],\n",
       "       [0., 0., 0., ..., 0., 0., 0.]], shape=(1000, 32))"
      ]
     },
     "execution_count": 16,
     "metadata": {},
     "output_type": "execute_result"
    }
   ],
   "source": [
    "spam_test_data=data['test_data']\n",
    "spam_test_data"
   ]
  },
  {
   "cell_type": "code",
   "execution_count": 17,
   "id": "7c488dae",
   "metadata": {},
   "outputs": [],
   "source": [
    "lda_means, lda_cov_matrix = compute_lda_parameters(training_data, training_label)\n",
    "lda_prior_probs = np.bincount(training_label, minlength=10) / len(training_label)\n",
    "\n",
    "qda_means, qda_covs = compute_qda_parameters(training_data, training_label)\n",
    "qda_priors = np.bincount(training_label, minlength=10) / len(training_label)"
   ]
  },
  {
   "cell_type": "code",
   "execution_count": 18,
   "id": "2ae8fa83",
   "metadata": {},
   "outputs": [
    {
     "name": "stdout",
     "output_type": "stream",
     "text": [
      "Making LDA predictions...\n",
      "Making QDA predictions...\n"
     ]
    }
   ],
   "source": [
    "print(\"Making LDA predictions...\")\n",
    "lda_predictions = lda_predict(spam_test_data, lda_means, lda_cov_matrix, lda_prior_probs)\n",
    "\n",
    "print(\"Making QDA predictions...\")\n",
    "qda_predictions = qda_predict(spam_test_data, qda_means, qda_covs, qda_priors)\n",
    "\n",
    "\n"
   ]
  },
  {
   "cell_type": "code",
   "execution_count": 19,
   "id": "32f88c52",
   "metadata": {},
   "outputs": [
    {
     "data": {
      "text/plain": [
       "array([0, 0, 1, 0, 0, 0, 1, 0, 0, 1, 0, 0, 0, 0, 0, 0, 0, 0, 1, 0, 0, 0,\n",
       "       0, 0, 0, 0, 0, 0, 1, 0, 1, 0, 1, 0, 1, 0, 0, 0, 0, 0, 0, 0, 0, 0,\n",
       "       0, 0, 0, 0, 0, 1, 0, 0, 0, 0, 1, 0, 0, 0, 0, 0, 0, 0, 1, 0, 0, 0,\n",
       "       0, 0, 0, 0, 0, 0, 0, 0, 1, 0, 0, 0, 0, 0, 0, 0, 0, 0, 0, 0, 0, 0,\n",
       "       1, 1, 0, 0, 0, 0, 1, 0, 0, 0, 0, 0, 0, 0, 0, 0, 0, 0, 0, 0, 0, 0,\n",
       "       0, 1, 0, 0, 0, 0, 0, 0, 0, 0, 0, 0, 0, 0, 0, 0, 0, 0, 0, 0, 0, 0,\n",
       "       0, 0, 0, 0, 0, 0, 0, 0, 0, 0, 0, 0, 0, 0, 0, 0, 0, 0, 0, 0, 0, 0,\n",
       "       0, 0, 0, 0, 0, 0, 0, 0, 0, 0, 0, 0, 0, 0, 0, 0, 0, 0, 0, 0, 0, 0,\n",
       "       0, 0, 0, 0, 0, 1, 0, 0, 0, 0, 0, 0, 0, 0, 1, 0, 0, 0, 0, 0, 0, 0,\n",
       "       0, 0, 0, 0, 0, 0, 1, 0, 0, 0, 0, 0, 0, 0, 0, 0, 0, 0, 0, 1, 0, 0,\n",
       "       0, 0, 0, 0, 0, 0, 0, 0, 0, 0, 0, 0, 0, 1, 0, 0, 0, 0, 0, 0, 0, 0,\n",
       "       0, 0, 0, 0, 0, 0, 0, 0, 0, 0, 0, 0, 0, 0, 0, 0, 0, 1, 1, 0, 0, 0,\n",
       "       0, 0, 0, 1, 0, 1, 0, 0, 0, 1, 1, 1, 0, 0, 0, 0, 0, 0, 0, 0, 0, 1,\n",
       "       0, 1, 0, 0, 0, 0, 0, 0, 0, 0, 0, 1, 0, 0, 0, 0, 0, 1, 0, 0, 0, 0,\n",
       "       0, 0, 0, 0, 0, 0, 0, 0, 0, 1, 0, 0, 0, 0, 0, 1, 0, 0, 1, 0, 0, 0,\n",
       "       0, 0, 0, 0, 0, 0, 0, 0, 1, 1, 1, 0, 0, 0, 0, 0, 0, 0, 0, 0, 0, 0,\n",
       "       0, 0, 1, 1, 0, 0, 0, 0, 0, 0, 1, 0, 0, 0, 0, 0, 0, 1, 0, 0, 0, 0,\n",
       "       0, 1, 0, 0, 0, 0, 0, 0, 0, 0, 0, 0, 0, 0, 0, 0, 0, 0, 0, 1, 1, 0,\n",
       "       0, 0, 0, 0, 0, 0, 0, 1, 0, 0, 0, 0, 1, 0, 0, 0, 0, 1, 0, 0, 0, 0,\n",
       "       0, 0, 0, 0, 0, 0, 0, 0, 0, 0, 0, 0, 0, 0, 0, 1, 0, 0, 0, 0, 0, 0,\n",
       "       0, 0, 0, 0, 0, 0, 0, 0, 0, 0, 0, 0, 0, 0, 0, 0, 0, 0, 0, 0, 0, 0,\n",
       "       0, 0, 0, 0, 0, 0, 0, 0, 0, 0, 0, 0, 0, 0, 0, 0, 0, 0, 0, 1, 0, 0,\n",
       "       0, 0, 0, 0, 0, 0, 1, 0, 0, 0, 0, 0, 0, 1, 0, 0, 0, 0, 0, 0, 0, 0,\n",
       "       0, 0, 0, 0, 0, 0, 0, 0, 0, 0, 0, 0, 0, 0, 0, 0, 0, 0, 0, 0, 1, 0,\n",
       "       0, 1, 0, 1, 0, 0, 0, 0, 0, 1, 1, 0, 0, 0, 0, 0, 0, 0, 0, 0, 0, 0,\n",
       "       0, 1, 0, 0, 1, 0, 0, 0, 0, 0, 0, 0, 0, 0, 0, 0, 0, 0, 0, 0, 1, 0,\n",
       "       0, 0, 0, 0, 0, 0, 0, 0, 0, 0, 0, 0, 0, 0, 0, 0, 0, 0, 0, 0, 0, 0,\n",
       "       0, 0, 1, 0, 0, 0, 0, 0, 0, 0, 0, 0, 0, 0, 0, 1, 0, 0, 0, 0, 0, 0,\n",
       "       0, 0, 0, 0, 0, 0, 0, 0, 0, 0, 0, 0, 0, 0, 0, 0, 0, 0, 0, 0, 0, 1,\n",
       "       0, 0, 0, 0, 0, 0, 0, 0, 0, 0, 0, 0, 0, 0, 0, 0, 0, 0, 0, 0, 0, 0,\n",
       "       0, 0, 0, 0, 0, 0, 0, 0, 0, 0, 0, 1, 0, 0, 0, 1, 0, 1, 0, 0, 0, 0,\n",
       "       0, 0, 0, 0, 0, 0, 0, 0, 0, 0, 0, 0, 0, 0, 0, 0, 0, 0, 0, 0, 0, 0,\n",
       "       0, 0, 0, 0, 0, 0, 0, 1, 0, 0, 0, 0, 0, 0, 0, 0, 0, 0, 0, 0, 0, 0,\n",
       "       1, 1, 0, 0, 0, 0, 0, 0, 0, 0, 0, 0, 0, 0, 0, 0, 0, 0, 0, 0, 0, 0,\n",
       "       0, 0, 1, 0, 1, 0, 0, 0, 0, 0, 0, 1, 0, 0, 0, 0, 0, 1, 0, 0, 0, 1,\n",
       "       0, 1, 0, 0, 0, 0, 0, 0, 0, 0, 0, 0, 0, 0, 1, 0, 0, 0, 0, 0, 0, 0,\n",
       "       0, 0, 1, 0, 0, 0, 0, 0, 0, 0, 1, 0, 0, 0, 0, 0, 0, 0, 0, 0, 0, 0,\n",
       "       0, 0, 0, 1, 0, 0, 0, 0, 0, 0, 0, 0, 0, 0, 0, 0, 0, 0, 0, 0, 0, 0,\n",
       "       0, 0, 0, 0, 0, 0, 0, 0, 0, 0, 0, 0, 0, 0, 0, 0, 0, 1, 0, 0, 0, 0,\n",
       "       1, 0, 0, 0, 0, 1, 0, 0, 0, 0, 0, 0, 0, 0, 0, 0, 0, 1, 0, 0, 0, 0,\n",
       "       1, 0, 0, 0, 0, 1, 0, 0, 0, 0, 0, 0, 0, 0, 0, 0, 0, 0, 0, 1, 0, 1,\n",
       "       0, 0, 0, 0, 0, 0, 0, 0, 0, 0, 0, 0, 1, 0, 0, 0, 0, 0, 0, 0, 0, 0,\n",
       "       0, 1, 0, 0, 0, 0, 0, 0, 0, 0, 1, 1, 0, 0, 0, 0, 0, 1, 0, 1, 1, 0,\n",
       "       0, 0, 0, 0, 0, 0, 0, 0, 1, 0, 0, 0, 0, 0, 0, 0, 0, 0, 0, 0, 0, 0,\n",
       "       1, 0, 0, 0, 0, 0, 0, 0, 0, 0, 0, 1, 0, 0, 0, 1, 0, 0, 0, 0, 0, 0,\n",
       "       0, 0, 0, 0, 0, 1, 0, 0, 0, 0])"
      ]
     },
     "execution_count": 19,
     "metadata": {},
     "output_type": "execute_result"
    }
   ],
   "source": [
    "lda_predictions"
   ]
  },
  {
   "cell_type": "code",
   "execution_count": 20,
   "id": "b22ab953",
   "metadata": {},
   "outputs": [
    {
     "data": {
      "text/plain": [
       "array([0, 0, 0, 0, 0, 0, 1, 0, 0, 1, 1, 0, 0, 0, 0, 0, 0, 0, 0, 0, 0, 0,\n",
       "       0, 0, 0, 0, 0, 0, 1, 0, 1, 0, 1, 0, 1, 0, 0, 0, 0, 0, 0, 0, 1, 0,\n",
       "       0, 0, 0, 1, 0, 1, 0, 0, 0, 0, 1, 0, 0, 0, 0, 0, 0, 1, 1, 0, 0, 0,\n",
       "       0, 0, 0, 0, 0, 0, 0, 0, 1, 0, 0, 0, 0, 0, 0, 0, 0, 0, 0, 0, 0, 0,\n",
       "       1, 1, 0, 0, 0, 0, 1, 0, 0, 0, 0, 0, 0, 0, 1, 0, 0, 0, 0, 0, 0, 0,\n",
       "       0, 1, 0, 0, 0, 0, 0, 0, 0, 0, 0, 0, 0, 0, 1, 0, 1, 0, 0, 0, 0, 0,\n",
       "       0, 0, 0, 0, 0, 0, 0, 0, 0, 0, 0, 0, 0, 0, 0, 0, 0, 0, 0, 0, 0, 0,\n",
       "       0, 0, 0, 0, 0, 0, 0, 0, 0, 0, 0, 0, 0, 0, 0, 0, 0, 0, 0, 0, 0, 0,\n",
       "       0, 0, 0, 0, 0, 1, 0, 0, 0, 0, 0, 0, 1, 0, 1, 0, 0, 0, 0, 0, 0, 1,\n",
       "       0, 0, 0, 0, 0, 1, 1, 0, 0, 0, 0, 0, 0, 1, 0, 0, 0, 0, 0, 1, 0, 0,\n",
       "       0, 0, 0, 0, 0, 1, 0, 0, 0, 0, 0, 0, 0, 1, 0, 0, 0, 0, 1, 1, 0, 0,\n",
       "       0, 0, 0, 0, 0, 0, 0, 0, 0, 0, 0, 0, 0, 0, 0, 0, 0, 1, 1, 0, 0, 0,\n",
       "       0, 1, 0, 1, 0, 1, 0, 0, 0, 1, 1, 1, 0, 0, 0, 0, 0, 0, 1, 0, 0, 1,\n",
       "       0, 0, 0, 0, 0, 0, 0, 0, 0, 0, 1, 1, 0, 0, 0, 0, 0, 1, 0, 0, 0, 1,\n",
       "       0, 1, 0, 0, 0, 0, 0, 0, 0, 1, 0, 0, 0, 0, 1, 1, 0, 0, 0, 0, 0, 0,\n",
       "       0, 0, 0, 0, 0, 0, 0, 0, 1, 1, 1, 0, 0, 0, 0, 0, 0, 0, 0, 0, 0, 0,\n",
       "       0, 0, 1, 1, 0, 0, 0, 0, 0, 0, 1, 0, 0, 0, 0, 0, 0, 1, 0, 0, 0, 0,\n",
       "       0, 1, 0, 0, 0, 0, 1, 0, 0, 0, 0, 0, 0, 0, 0, 1, 0, 0, 0, 1, 0, 0,\n",
       "       1, 0, 0, 0, 0, 0, 0, 1, 0, 0, 0, 0, 1, 0, 0, 0, 0, 1, 0, 1, 0, 0,\n",
       "       0, 0, 0, 0, 0, 0, 0, 0, 0, 0, 0, 0, 0, 0, 0, 1, 0, 1, 0, 0, 0, 0,\n",
       "       0, 1, 0, 0, 0, 0, 0, 0, 0, 0, 0, 0, 0, 0, 0, 0, 0, 0, 0, 0, 0, 0,\n",
       "       0, 0, 0, 1, 0, 0, 0, 0, 0, 0, 0, 0, 0, 0, 0, 0, 0, 0, 0, 0, 0, 0,\n",
       "       0, 0, 0, 0, 0, 0, 1, 0, 0, 0, 0, 0, 0, 1, 1, 1, 0, 1, 0, 0, 0, 0,\n",
       "       0, 0, 0, 0, 0, 0, 0, 0, 0, 0, 0, 0, 0, 0, 0, 0, 0, 0, 0, 0, 1, 0,\n",
       "       0, 1, 0, 1, 0, 0, 0, 0, 0, 1, 1, 0, 0, 0, 1, 0, 0, 0, 1, 0, 0, 0,\n",
       "       0, 1, 0, 0, 1, 0, 0, 0, 0, 0, 0, 0, 0, 0, 0, 0, 0, 0, 0, 0, 0, 0,\n",
       "       0, 0, 1, 0, 0, 0, 1, 0, 0, 0, 0, 0, 0, 0, 0, 0, 0, 0, 0, 0, 0, 0,\n",
       "       0, 0, 1, 0, 0, 0, 0, 0, 0, 0, 0, 0, 0, 0, 0, 1, 0, 0, 0, 0, 0, 0,\n",
       "       0, 0, 0, 0, 0, 0, 0, 0, 0, 0, 0, 0, 0, 0, 0, 0, 0, 0, 0, 0, 0, 0,\n",
       "       0, 0, 0, 0, 0, 0, 0, 0, 0, 0, 0, 0, 0, 0, 0, 0, 0, 0, 0, 0, 0, 0,\n",
       "       0, 0, 0, 0, 0, 0, 0, 0, 0, 0, 0, 1, 0, 0, 1, 0, 0, 1, 0, 0, 0, 0,\n",
       "       0, 0, 0, 0, 0, 0, 0, 0, 0, 0, 0, 0, 0, 0, 0, 0, 0, 0, 1, 0, 0, 0,\n",
       "       0, 0, 0, 0, 0, 0, 0, 1, 0, 0, 0, 0, 0, 0, 0, 1, 0, 0, 0, 0, 0, 0,\n",
       "       1, 1, 0, 0, 0, 0, 0, 0, 0, 0, 0, 0, 0, 0, 0, 0, 0, 0, 0, 0, 1, 0,\n",
       "       0, 0, 1, 0, 1, 0, 0, 0, 0, 0, 0, 1, 0, 0, 0, 0, 0, 0, 0, 0, 0, 1,\n",
       "       0, 1, 0, 0, 0, 0, 0, 0, 0, 0, 0, 0, 0, 0, 1, 0, 0, 0, 0, 0, 0, 0,\n",
       "       0, 0, 1, 0, 0, 0, 0, 0, 0, 0, 1, 0, 0, 0, 0, 0, 0, 0, 0, 0, 0, 0,\n",
       "       0, 0, 0, 1, 0, 0, 0, 0, 0, 0, 0, 0, 0, 1, 0, 0, 0, 0, 0, 0, 0, 0,\n",
       "       0, 0, 0, 0, 0, 0, 0, 0, 0, 0, 0, 0, 0, 0, 0, 0, 0, 1, 1, 0, 0, 0,\n",
       "       1, 0, 0, 0, 0, 1, 0, 0, 0, 0, 1, 0, 0, 0, 0, 1, 0, 1, 0, 0, 0, 0,\n",
       "       1, 0, 0, 0, 0, 1, 0, 0, 0, 0, 0, 0, 0, 0, 0, 0, 0, 0, 0, 1, 0, 1,\n",
       "       0, 0, 0, 0, 0, 0, 0, 0, 0, 0, 0, 0, 1, 0, 0, 0, 0, 0, 0, 0, 1, 0,\n",
       "       1, 1, 0, 0, 0, 0, 0, 0, 0, 0, 1, 1, 0, 0, 0, 0, 0, 1, 0, 1, 1, 0,\n",
       "       0, 0, 0, 0, 0, 0, 0, 0, 1, 0, 0, 1, 0, 0, 0, 0, 0, 0, 0, 0, 0, 0,\n",
       "       1, 0, 0, 0, 0, 0, 0, 0, 0, 0, 0, 1, 0, 0, 0, 1, 0, 0, 0, 0, 0, 0,\n",
       "       0, 0, 0, 0, 0, 1, 0, 0, 0, 0])"
      ]
     },
     "execution_count": 20,
     "metadata": {},
     "output_type": "execute_result"
    }
   ],
   "source": [
    "qda_predictions"
   ]
  }
 ],
 "metadata": {
  "kernelspec": {
   "display_name": ".venv",
   "language": "python",
   "name": "python3"
  },
  "language_info": {
   "codemirror_mode": {
    "name": "ipython",
    "version": 3
   },
   "file_extension": ".py",
   "mimetype": "text/x-python",
   "name": "python",
   "nbconvert_exporter": "python",
   "pygments_lexer": "ipython3",
   "version": "3.12.3"
  }
 },
 "nbformat": 4,
 "nbformat_minor": 5
}
