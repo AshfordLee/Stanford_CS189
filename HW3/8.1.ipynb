{
 "cells": [
  {
   "cell_type": "code",
   "execution_count": 301,
   "id": "b2468638",
   "metadata": {},
   "outputs": [],
   "source": [
    "import scipy \n",
    "import numpy as np\n",
    "import pandas as pd\n"
   ]
  },
  {
   "cell_type": "markdown",
   "id": "ac26c715",
   "metadata": {},
   "source": [
    "# spam"
   ]
  },
  {
   "cell_type": "code",
   "execution_count": 302,
   "id": "ab255b46",
   "metadata": {},
   "outputs": [
    {
     "data": {
      "text/plain": [
       "KeysView(NpzFile './data/spam-data-hw3.npz' with keys: training_data, training_labels, test_data)"
      ]
     },
     "execution_count": 302,
     "metadata": {},
     "output_type": "execute_result"
    }
   ],
   "source": [
    "data=np.load(\"./data/spam-data-hw3.npz\")\n",
    "data.keys()"
   ]
  },
  {
   "cell_type": "code",
   "execution_count": 303,
   "id": "8345d362",
   "metadata": {},
   "outputs": [
    {
     "data": {
      "text/plain": [
       "(4171, 32)"
      ]
     },
     "execution_count": 303,
     "metadata": {},
     "output_type": "execute_result"
    }
   ],
   "source": [
    "data['training_data'].shape"
   ]
  },
  {
   "cell_type": "code",
   "execution_count": 304,
   "id": "16d237bb",
   "metadata": {},
   "outputs": [
    {
     "data": {
      "text/plain": [
       "(4171,)"
      ]
     },
     "execution_count": 304,
     "metadata": {},
     "output_type": "execute_result"
    }
   ],
   "source": [
    "data['training_labels'].shape"
   ]
  },
  {
   "cell_type": "code",
   "execution_count": 305,
   "id": "77194086",
   "metadata": {},
   "outputs": [],
   "source": [
    "training_data=data['training_data']\n",
    "training_label=data['training_labels']\n"
   ]
  },
  {
   "cell_type": "code",
   "execution_count": 306,
   "id": "a0bf5180",
   "metadata": {},
   "outputs": [
    {
     "data": {
      "text/plain": [
       "array([1, 1, 1, ..., 0, 0, 0], shape=(4171,))"
      ]
     },
     "execution_count": 306,
     "metadata": {},
     "output_type": "execute_result"
    }
   ],
   "source": [
    "training_label"
   ]
  },
  {
   "cell_type": "code",
   "execution_count": 307,
   "id": "7bd1f264",
   "metadata": {},
   "outputs": [
    {
     "name": "stdout",
     "output_type": "stream",
     "text": [
      "[0 1]\n",
      "[2971 1200]\n"
     ]
    }
   ],
   "source": [
    "unique_labels,counts=np.unique(training_label,return_counts=True)\n",
    "print(unique_labels)\n",
    "print(counts)\n",
    "prior_probs=counts/len(training_label)"
   ]
  },
  {
   "cell_type": "code",
   "execution_count": 308,
   "id": "f8d4c05e",
   "metadata": {},
   "outputs": [],
   "source": [
    "def normalize_features(features):\n",
    "    # L2 normalize to every vector\n",
    "    norms=np.linalg.norm(features,axis=1,keepdims=True) # get the L2 norm for each vector\n",
    "    norms[norms==0]=1 # Take care of the zero case\n",
    "    normalized_features=features/norms # Normalization\n",
    "\n",
    "    return normalized_features\n",
    "\n"
   ]
  },
  {
   "cell_type": "code",
   "execution_count": 309,
   "id": "40361baa",
   "metadata": {},
   "outputs": [
    {
     "name": "stdout",
     "output_type": "stream",
     "text": [
      "(4171, 32)\n"
     ]
    }
   ],
   "source": [
    "normalized_data=normalize_features(training_data)\n",
    "print(normalized_data.shape)\n"
   ]
  },
  {
   "cell_type": "code",
   "execution_count": 310,
   "id": "e6dcdae6",
   "metadata": {},
   "outputs": [
    {
     "data": {
      "text/plain": [
       "array([[0.        , 0.        , 0.        , ..., 0.54433105, 0.        ,\n",
       "        0.        ],\n",
       "       [0.        , 0.        , 0.        , ..., 0.        , 0.        ,\n",
       "        0.        ],\n",
       "       [0.        , 0.        , 0.        , ..., 0.        , 0.        ,\n",
       "        0.        ],\n",
       "       ...,\n",
       "       [0.        , 0.        , 0.        , ..., 0.5547002 , 0.        ,\n",
       "        0.2773501 ],\n",
       "       [0.        , 0.        , 0.        , ..., 0.70710678, 0.        ,\n",
       "        0.        ],\n",
       "       [0.        , 0.        , 0.        , ..., 0.81511151, 0.232889  ,\n",
       "        0.        ]], shape=(4171, 32))"
      ]
     },
     "execution_count": 310,
     "metadata": {},
     "output_type": "execute_result"
    }
   ],
   "source": [
    "normalized_data"
   ]
  },
  {
   "cell_type": "code",
   "execution_count": 311,
   "id": "71125cf8",
   "metadata": {},
   "outputs": [],
   "source": [
    "# MLE fit Gaussian Distribution\n",
    "from statistics import covariance\n",
    "\n",
    "\n",
    "def fit_gaussian(training_data,training_labels):\n",
    "    n_classes=len(np.unique(training_labels))\n",
    "    n_features=training_data.shape[1]\n",
    "\n",
    "    means=np.zeros((n_classes,n_features))\n",
    "    covariances=np.zeros((n_classes,n_features,n_features))\n",
    "\n",
    "    for class_label in range(n_classes):\n",
    "        class_mask=(training_labels==class_label)\n",
    "        class_data=training_data[class_mask]\n",
    "\n",
    "        means[class_label]=np.mean(class_data,axis=0)\n",
    "        centered_data=class_data-means[class_label]\n",
    "\n",
    "\n",
    "        covariances[class_label]=np.cov(centered_data.T)\n",
    "\n",
    "\n",
    "    return means,covariances\n"
   ]
  },
  {
   "cell_type": "code",
   "execution_count": 312,
   "id": "a254d8dc",
   "metadata": {},
   "outputs": [],
   "source": [
    "means,covariances=fit_gaussian(training_data=normalized_data,training_labels=training_label)\n"
   ]
  },
  {
   "cell_type": "code",
   "execution_count": 313,
   "id": "a5b4aebf",
   "metadata": {},
   "outputs": [
    {
     "data": {
      "text/plain": [
       "(2, 32)"
      ]
     },
     "execution_count": 313,
     "metadata": {},
     "output_type": "execute_result"
    }
   ],
   "source": [
    "means.shape"
   ]
  },
  {
   "cell_type": "code",
   "execution_count": 314,
   "id": "12c6df30",
   "metadata": {},
   "outputs": [
    {
     "data": {
      "text/plain": [
       "(2, 32, 32)"
      ]
     },
     "execution_count": 314,
     "metadata": {},
     "output_type": "execute_result"
    }
   ],
   "source": [
    "covariances.shape"
   ]
  },
  {
   "cell_type": "code",
   "execution_count": 315,
   "id": "db3c99fa",
   "metadata": {},
   "outputs": [],
   "source": [
    "def quadratic_func(x,mean,cov,prior_prob):\n",
    "    # quadratic function as probability\n",
    "    centered_x=x-mean\n",
    "    try:\n",
    "        inv_cov=np.linalg.inv(cov)\n",
    "    except np.linalg.LinAlgError:\n",
    "        inv_cov=np.linalg.pinv(cov)\n",
    "    quadratic_term=-0.5*centered_x.T@inv_cov@centered_x\n",
    "\n",
    "    det_cov=np.linalg.det(cov)\n",
    "    if det_cov<=0:\n",
    "        det_term=0\n",
    "\n",
    "    else:\n",
    "        det_term=-0.5*np.log(det_cov)\n",
    "    \n",
    "    prior_term=np.log(prior_prob)\n",
    "\n",
    "    return quadratic_term+det_term+prior_term"
   ]
  },
  {
   "cell_type": "code",
   "execution_count": 316,
   "id": "6f685afe",
   "metadata": {},
   "outputs": [],
   "source": [
    "def predict_all_simples(test_data,means,covariances,prior_probs):\n",
    "    predictions=[]\n",
    "\n",
    "    for i in range(len(test_data)):\n",
    "        sample=test_data[i]\n",
    "\n",
    "        class_scores=[]\n",
    "        for k in range(len(means)):\n",
    "            score=quadratic_func(sample,means[k],covariances[k],prior_probs[k])\n",
    "            class_scores.append(score)\n",
    "\n",
    "        predicted_class=np.argmax(class_scores)\n",
    "        predictions.append(predicted_class)\n",
    "\n",
    "    return np.array(predictions)\n",
    "    "
   ]
  },
  {
   "cell_type": "code",
   "execution_count": 317,
   "id": "bcb15f11",
   "metadata": {},
   "outputs": [],
   "source": [
    "test_data=data['test_data']"
   ]
  },
  {
   "cell_type": "code",
   "execution_count": 318,
   "id": "c9396bfb",
   "metadata": {},
   "outputs": [],
   "source": [
    "normalized_test_data=normalize_features(test_data)"
   ]
  },
  {
   "cell_type": "code",
   "execution_count": 319,
   "id": "98e8c50d",
   "metadata": {},
   "outputs": [],
   "source": [
    "predictions=predict_all_simples(test_data=normalized_test_data,means=means,covariances=covariances,prior_probs=prior_probs)"
   ]
  },
  {
   "cell_type": "code",
   "execution_count": 320,
   "id": "6d8c1dec",
   "metadata": {},
   "outputs": [
    {
     "data": {
      "text/plain": [
       "array([0, 0, 1, 0, 1, 0, 0, 1, 1, 1, 1, 0, 1, 1, 1, 1, 0, 0, 1, 0, 0, 1,\n",
       "       1, 0, 0, 1, 0, 0, 0, 0, 1, 0, 1, 0, 1, 1, 0, 0, 1, 0, 0, 1, 1, 0,\n",
       "       0, 0, 0, 0, 0, 1, 0, 1, 0, 0, 1, 1, 0, 1, 0, 1, 0, 0, 0, 0, 1, 1,\n",
       "       1, 0, 1, 0, 0, 1, 0, 0, 1, 0, 0, 0, 0, 0, 0, 0, 0, 0, 1, 0, 0, 1,\n",
       "       1, 1, 1, 1, 1, 1, 1, 0, 0, 1, 1, 1, 1, 0, 1, 0, 0, 0, 0, 1, 1, 0,\n",
       "       0, 0, 0, 0, 0, 0, 0, 0, 1, 1, 0, 0, 0, 0, 1, 1, 0, 0, 0, 0, 0, 1,\n",
       "       1, 0, 0, 0, 0, 0, 0, 0, 1, 0, 1, 1, 0, 0, 0, 1, 1, 0, 0, 0, 0, 0,\n",
       "       1, 0, 1, 1, 1, 0, 1, 0, 1, 1, 0, 0, 0, 0, 0, 0, 0, 0, 0, 0, 1, 0,\n",
       "       0, 0, 0, 1, 0, 1, 0, 1, 0, 0, 0, 1, 1, 0, 1, 0, 0, 0, 1, 1, 0, 1,\n",
       "       0, 1, 0, 0, 0, 1, 1, 1, 1, 0, 1, 1, 0, 1, 0, 0, 1, 1, 1, 1, 0, 0,\n",
       "       0, 0, 1, 1, 1, 1, 0, 0, 0, 0, 0, 1, 0, 0, 0, 1, 0, 0, 1, 0, 1, 0,\n",
       "       0, 0, 0, 0, 0, 0, 0, 1, 1, 0, 0, 0, 0, 0, 0, 1, 1, 1, 1, 0, 1, 0,\n",
       "       0, 1, 1, 1, 0, 1, 0, 1, 0, 1, 1, 0, 0, 1, 0, 0, 0, 0, 1, 0, 0, 1,\n",
       "       0, 1, 1, 1, 0, 1, 1, 1, 0, 1, 1, 0, 0, 0, 0, 0, 0, 1, 1, 0, 1, 1,\n",
       "       0, 1, 1, 0, 0, 0, 0, 0, 0, 1, 0, 1, 0, 1, 0, 1, 1, 1, 1, 0, 1, 0,\n",
       "       1, 0, 1, 1, 0, 0, 0, 1, 1, 1, 1, 1, 0, 1, 1, 0, 0, 0, 1, 0, 0, 0,\n",
       "       0, 0, 1, 1, 0, 0, 0, 0, 0, 1, 0, 1, 0, 0, 0, 0, 0, 1, 0, 0, 1, 0,\n",
       "       0, 1, 1, 0, 0, 1, 1, 0, 0, 0, 0, 1, 0, 1, 0, 1, 1, 0, 0, 1, 1, 0,\n",
       "       1, 0, 1, 1, 0, 0, 1, 1, 1, 0, 0, 0, 1, 1, 0, 1, 0, 1, 1, 1, 0, 0,\n",
       "       0, 1, 0, 0, 0, 0, 1, 1, 0, 1, 0, 1, 0, 1, 0, 1, 1, 1, 0, 1, 0, 0,\n",
       "       1, 1, 1, 1, 0, 1, 0, 0, 0, 0, 1, 0, 0, 1, 0, 1, 0, 0, 1, 0, 0, 0,\n",
       "       0, 1, 1, 1, 1, 0, 1, 0, 0, 0, 0, 1, 0, 1, 0, 1, 0, 0, 0, 1, 0, 0,\n",
       "       0, 0, 0, 0, 0, 1, 0, 0, 0, 0, 0, 0, 1, 1, 1, 0, 0, 0, 0, 0, 0, 0,\n",
       "       0, 0, 1, 1, 0, 0, 0, 0, 0, 0, 0, 0, 1, 0, 0, 0, 1, 0, 0, 0, 1, 1,\n",
       "       1, 1, 0, 1, 0, 0, 0, 0, 0, 1, 1, 0, 1, 0, 1, 0, 0, 0, 1, 1, 1, 1,\n",
       "       0, 1, 1, 0, 0, 0, 1, 1, 0, 0, 0, 0, 0, 0, 0, 1, 0, 1, 1, 0, 1, 0,\n",
       "       1, 1, 1, 1, 0, 0, 1, 1, 0, 0, 0, 0, 1, 1, 0, 0, 0, 0, 1, 0, 0, 0,\n",
       "       0, 0, 1, 0, 0, 0, 0, 1, 0, 0, 1, 1, 0, 1, 0, 1, 1, 0, 0, 0, 0, 1,\n",
       "       0, 1, 0, 1, 0, 1, 1, 0, 0, 0, 0, 0, 1, 1, 1, 0, 1, 1, 0, 1, 0, 1,\n",
       "       0, 0, 1, 1, 0, 0, 1, 0, 0, 0, 0, 0, 0, 0, 0, 0, 1, 0, 0, 0, 0, 0,\n",
       "       1, 0, 0, 0, 0, 0, 0, 0, 0, 1, 0, 1, 0, 0, 1, 1, 1, 1, 1, 0, 0, 0,\n",
       "       0, 0, 0, 0, 0, 0, 0, 0, 0, 0, 1, 0, 0, 0, 1, 0, 0, 1, 1, 1, 0, 0,\n",
       "       0, 1, 0, 1, 1, 0, 0, 1, 1, 1, 1, 1, 0, 1, 1, 1, 0, 1, 0, 0, 0, 1,\n",
       "       1, 1, 1, 0, 0, 0, 0, 0, 0, 0, 0, 1, 1, 1, 1, 1, 0, 0, 1, 0, 1, 0,\n",
       "       0, 0, 1, 0, 1, 1, 0, 0, 1, 1, 1, 1, 0, 1, 0, 0, 1, 1, 0, 0, 1, 0,\n",
       "       0, 1, 0, 0, 0, 0, 1, 0, 0, 0, 0, 0, 0, 0, 1, 0, 1, 0, 0, 0, 0, 0,\n",
       "       0, 1, 1, 1, 1, 1, 1, 1, 0, 0, 1, 0, 0, 1, 0, 0, 1, 0, 0, 1, 1, 1,\n",
       "       1, 0, 1, 1, 1, 1, 0, 1, 0, 1, 1, 0, 0, 1, 1, 0, 0, 1, 0, 1, 0, 1,\n",
       "       0, 0, 0, 0, 0, 1, 0, 1, 0, 0, 0, 0, 0, 0, 1, 1, 0, 0, 1, 0, 1, 1,\n",
       "       0, 0, 0, 1, 1, 1, 1, 0, 0, 1, 1, 1, 1, 0, 0, 1, 1, 0, 1, 0, 0, 1,\n",
       "       1, 0, 0, 0, 1, 0, 0, 0, 0, 0, 0, 0, 1, 0, 0, 1, 0, 0, 1, 1, 1, 1,\n",
       "       1, 0, 1, 1, 0, 0, 1, 0, 0, 0, 1, 1, 1, 1, 0, 1, 0, 0, 0, 1, 1, 1,\n",
       "       1, 0, 0, 0, 0, 0, 0, 0, 0, 0, 0, 1, 0, 0, 1, 0, 0, 1, 0, 0, 1, 0,\n",
       "       0, 0, 0, 0, 1, 1, 0, 1, 1, 1, 0, 1, 1, 0, 0, 0, 0, 0, 1, 0, 0, 1,\n",
       "       1, 0, 0, 1, 0, 0, 0, 0, 0, 1, 0, 1, 1, 1, 0, 1, 1, 0, 0, 1, 0, 0,\n",
       "       0, 1, 0, 0, 0, 1, 0, 1, 0, 1])"
      ]
     },
     "execution_count": 320,
     "metadata": {},
     "output_type": "execute_result"
    }
   ],
   "source": [
    "predictions"
   ]
  },
  {
   "cell_type": "code",
   "execution_count": 321,
   "id": "555d24f2",
   "metadata": {},
   "outputs": [
    {
     "name": "stdout",
     "output_type": "stream",
     "text": [
      "[0 1]\n",
      "[593 407]\n"
     ]
    }
   ],
   "source": [
    "unique_labels,counts=np.unique(predictions,return_counts=True)\n",
    "print(unique_labels)\n",
    "print(counts)"
   ]
  },
  {
   "cell_type": "markdown",
   "id": "047bd931",
   "metadata": {},
   "source": [
    "# mnist"
   ]
  },
  {
   "cell_type": "code",
   "execution_count": 322,
   "id": "8a679098",
   "metadata": {},
   "outputs": [
    {
     "data": {
      "text/plain": [
       "KeysView(NpzFile './data/mnist-data-hw3.npz' with keys: training_data, training_labels, test_data)"
      ]
     },
     "execution_count": 322,
     "metadata": {},
     "output_type": "execute_result"
    }
   ],
   "source": [
    "data=np.load(\"./data/mnist-data-hw3.npz\")\n",
    "data.keys()"
   ]
  },
  {
   "cell_type": "code",
   "execution_count": 323,
   "id": "98027594",
   "metadata": {},
   "outputs": [
    {
     "data": {
      "text/plain": [
       "(60000, 1, 28, 28)"
      ]
     },
     "execution_count": 323,
     "metadata": {},
     "output_type": "execute_result"
    }
   ],
   "source": [
    "data['training_data'].shape"
   ]
  },
  {
   "cell_type": "code",
   "execution_count": 324,
   "id": "79b6116d",
   "metadata": {},
   "outputs": [
    {
     "data": {
      "text/plain": [
       "array([[0, 0, 0, ..., 0, 0, 0],\n",
       "       [0, 0, 0, ..., 0, 0, 0],\n",
       "       [0, 0, 0, ..., 0, 0, 0],\n",
       "       ...,\n",
       "       [0, 0, 0, ..., 0, 0, 0],\n",
       "       [0, 0, 0, ..., 0, 0, 0],\n",
       "       [0, 0, 0, ..., 0, 0, 0]], shape=(60000, 784), dtype=uint8)"
      ]
     },
     "execution_count": 324,
     "metadata": {},
     "output_type": "execute_result"
    }
   ],
   "source": [
    "data['training_data'].reshape(60000,28*28)"
   ]
  },
  {
   "cell_type": "code",
   "execution_count": 325,
   "id": "ea46acd4",
   "metadata": {},
   "outputs": [],
   "source": [
    "training_data=data['training_data']\n",
    "training_label=data['training_labels']\n"
   ]
  },
  {
   "cell_type": "code",
   "execution_count": 326,
   "id": "6a9be1ec",
   "metadata": {},
   "outputs": [],
   "source": [
    "training_data=training_data.reshape(60000,28*28)"
   ]
  },
  {
   "cell_type": "code",
   "execution_count": 327,
   "id": "ecf8730a",
   "metadata": {},
   "outputs": [
    {
     "data": {
      "text/plain": [
       "array([3, 7, 1, ..., 3, 7, 1], shape=(60000,), dtype=uint8)"
      ]
     },
     "execution_count": 327,
     "metadata": {},
     "output_type": "execute_result"
    }
   ],
   "source": [
    "training_label"
   ]
  },
  {
   "cell_type": "code",
   "execution_count": 328,
   "id": "8406efc0",
   "metadata": {},
   "outputs": [
    {
     "name": "stdout",
     "output_type": "stream",
     "text": [
      "[0 1 2 3 4 5 6 7 8 9]\n",
      "[5923 6742 5993 6162 5862 5428 5870 6213 5851 5956]\n"
     ]
    }
   ],
   "source": [
    "unique_labels,counts=np.unique(training_label,return_counts=True)\n",
    "print(unique_labels)\n",
    "print(counts)\n",
    "prior_probs=counts/len(training_label)"
   ]
  },
  {
   "cell_type": "code",
   "execution_count": 329,
   "id": "0fec6018",
   "metadata": {},
   "outputs": [],
   "source": [
    "def normalize_features(features):\n",
    "    # L2 normalize to every vector\n",
    "    norms=np.linalg.norm(features,axis=1,keepdims=True) # get the L2 norm for each vector\n",
    "    norms[norms==0]=1 # Take care of the zero case\n",
    "    normalized_features=features/norms # Normalization\n",
    "\n",
    "    return normalized_features\n",
    "\n"
   ]
  },
  {
   "cell_type": "code",
   "execution_count": 330,
   "id": "4ea8b7e4",
   "metadata": {},
   "outputs": [
    {
     "name": "stdout",
     "output_type": "stream",
     "text": [
      "(60000, 784)\n"
     ]
    }
   ],
   "source": [
    "normalized_data=normalize_features(training_data)\n",
    "print(normalized_data.shape)\n"
   ]
  },
  {
   "cell_type": "code",
   "execution_count": 331,
   "id": "0fe738ec",
   "metadata": {},
   "outputs": [
    {
     "data": {
      "text/plain": [
       "array([[0., 0., 0., ..., 0., 0., 0.],\n",
       "       [0., 0., 0., ..., 0., 0., 0.],\n",
       "       [0., 0., 0., ..., 0., 0., 0.],\n",
       "       ...,\n",
       "       [0., 0., 0., ..., 0., 0., 0.],\n",
       "       [0., 0., 0., ..., 0., 0., 0.],\n",
       "       [0., 0., 0., ..., 0., 0., 0.]], shape=(60000, 784))"
      ]
     },
     "execution_count": 331,
     "metadata": {},
     "output_type": "execute_result"
    }
   ],
   "source": [
    "normalized_data"
   ]
  },
  {
   "cell_type": "code",
   "execution_count": 332,
   "id": "cb10736e",
   "metadata": {},
   "outputs": [],
   "source": [
    "# MLE fit Gaussian Distribution\n",
    "from statistics import covariance\n",
    "\n",
    "\n",
    "def fit_gaussian(training_data,training_labels):\n",
    "    n_classes=len(np.unique(training_labels))\n",
    "    n_features=training_data.shape[1]\n",
    "\n",
    "    means=np.zeros((n_classes,n_features))\n",
    "    covariances=np.zeros((n_classes,n_features,n_features))\n",
    "\n",
    "    for class_label in range(n_classes):\n",
    "        class_mask=(training_labels==class_label)\n",
    "        class_data=training_data[class_mask]\n",
    "\n",
    "        means[class_label]=np.mean(class_data,axis=0)\n",
    "        centered_data=class_data-means[class_label]\n",
    "\n",
    "\n",
    "        covariances[class_label]=np.cov(centered_data.T)\n",
    "\n",
    "\n",
    "    return means,covariances\n"
   ]
  },
  {
   "cell_type": "code",
   "execution_count": 333,
   "id": "965cfbf0",
   "metadata": {},
   "outputs": [],
   "source": [
    "means,covariances=fit_gaussian(training_data=normalized_data,training_labels=training_label)\n"
   ]
  },
  {
   "cell_type": "code",
   "execution_count": 334,
   "id": "db9ba2f1",
   "metadata": {},
   "outputs": [
    {
     "data": {
      "text/plain": [
       "(10, 784)"
      ]
     },
     "execution_count": 334,
     "metadata": {},
     "output_type": "execute_result"
    }
   ],
   "source": [
    "means.shape"
   ]
  },
  {
   "cell_type": "code",
   "execution_count": 335,
   "id": "3ead5ca8",
   "metadata": {},
   "outputs": [
    {
     "data": {
      "text/plain": [
       "(10, 784, 784)"
      ]
     },
     "execution_count": 335,
     "metadata": {},
     "output_type": "execute_result"
    }
   ],
   "source": [
    "covariances.shape"
   ]
  },
  {
   "cell_type": "code",
   "execution_count": 336,
   "id": "521558b2",
   "metadata": {},
   "outputs": [],
   "source": [
    "def quadratic_func(x,mean,cov,prior_prob):\n",
    "    # quadratic function as probability\n",
    "    centered_x=x-mean\n",
    "    try:\n",
    "        inv_cov=np.linalg.inv(cov)\n",
    "    except np.linalg.LinAlgError:\n",
    "        inv_cov=np.linalg.pinv(cov)\n",
    "    quadratic_term=-0.5*centered_x.T@inv_cov@centered_x\n",
    "\n",
    "    det_cov=np.linalg.det(cov)\n",
    "    if det_cov<=0:\n",
    "        det_term=0\n",
    "\n",
    "    else:\n",
    "        det_term=-0.5*np.log(det_cov)\n",
    "    \n",
    "    prior_term=np.log(prior_prob)\n",
    "\n",
    "    return quadratic_term+det_term+prior_term"
   ]
  },
  {
   "cell_type": "code",
   "execution_count": 337,
   "id": "de2d999f",
   "metadata": {},
   "outputs": [],
   "source": [
    "def predict_all_simples(test_data,means,covariances,prior_probs):\n",
    "    predictions=[]\n",
    "\n",
    "    for i in range(len(test_data)):\n",
    "        sample=test_data[i]\n",
    "\n",
    "        class_scores=[]\n",
    "        for k in range(len(means)):\n",
    "            score=quadratic_func(sample,means[k],covariances[k],prior_probs[k])\n",
    "            class_scores.append(score)\n",
    "\n",
    "        predicted_class=np.argmax(class_scores)\n",
    "        predictions.append(predicted_class)\n",
    "\n",
    "    return np.array(predictions)\n",
    "    "
   ]
  },
  {
   "cell_type": "code",
   "execution_count": 338,
   "id": "9c8d35f2",
   "metadata": {},
   "outputs": [],
   "source": [
    "test_data=data['test_data']"
   ]
  },
  {
   "cell_type": "code",
   "execution_count": 339,
   "id": "78b74dc1",
   "metadata": {},
   "outputs": [],
   "source": [
    "test_data=test_data.reshape(test_data.shape[0],-1)"
   ]
  },
  {
   "cell_type": "code",
   "execution_count": 340,
   "id": "94d4f2ff",
   "metadata": {},
   "outputs": [],
   "source": [
    "normalized_test_data=normalize_features(test_data)"
   ]
  },
  {
   "cell_type": "code",
   "execution_count": 341,
   "id": "f678a38f",
   "metadata": {},
   "outputs": [
    {
     "ename": "KeyboardInterrupt",
     "evalue": "",
     "output_type": "error",
     "traceback": [
      "\u001b[31m---------------------------------------------------------------------------\u001b[39m",
      "\u001b[31mLinAlgError\u001b[39m                               Traceback (most recent call last)",
      "\u001b[36mCell\u001b[39m\u001b[36m \u001b[39m\u001b[32mIn[336]\u001b[39m\u001b[32m, line 5\u001b[39m, in \u001b[36mquadratic_func\u001b[39m\u001b[34m(x, mean, cov, prior_prob)\u001b[39m\n\u001b[32m      4\u001b[39m \u001b[38;5;28;01mtry\u001b[39;00m:\n\u001b[32m----> \u001b[39m\u001b[32m5\u001b[39m     inv_cov=\u001b[43mnp\u001b[49m\u001b[43m.\u001b[49m\u001b[43mlinalg\u001b[49m\u001b[43m.\u001b[49m\u001b[43minv\u001b[49m\u001b[43m(\u001b[49m\u001b[43mcov\u001b[49m\u001b[43m)\u001b[49m\n\u001b[32m      6\u001b[39m \u001b[38;5;28;01mexcept\u001b[39;00m np.linalg.LinAlgError:\n",
      "\u001b[36mFile \u001b[39m\u001b[32m~/UCB_CS189/.venv/lib/python3.12/site-packages/numpy/linalg/_linalg.py:669\u001b[39m, in \u001b[36minv\u001b[39m\u001b[34m(a)\u001b[39m\n\u001b[32m    667\u001b[39m \u001b[38;5;28;01mwith\u001b[39;00m errstate(call=_raise_linalgerror_singular, invalid=\u001b[33m'\u001b[39m\u001b[33mcall\u001b[39m\u001b[33m'\u001b[39m,\n\u001b[32m    668\u001b[39m               over=\u001b[33m'\u001b[39m\u001b[33mignore\u001b[39m\u001b[33m'\u001b[39m, divide=\u001b[33m'\u001b[39m\u001b[33mignore\u001b[39m\u001b[33m'\u001b[39m, under=\u001b[33m'\u001b[39m\u001b[33mignore\u001b[39m\u001b[33m'\u001b[39m):\n\u001b[32m--> \u001b[39m\u001b[32m669\u001b[39m     ainv = \u001b[43m_umath_linalg\u001b[49m\u001b[43m.\u001b[49m\u001b[43minv\u001b[49m\u001b[43m(\u001b[49m\u001b[43ma\u001b[49m\u001b[43m,\u001b[49m\u001b[43m \u001b[49m\u001b[43msignature\u001b[49m\u001b[43m=\u001b[49m\u001b[43msignature\u001b[49m\u001b[43m)\u001b[49m\n\u001b[32m    670\u001b[39m \u001b[38;5;28;01mreturn\u001b[39;00m wrap(ainv.astype(result_t, copy=\u001b[38;5;28;01mFalse\u001b[39;00m))\n",
      "\u001b[36mFile \u001b[39m\u001b[32m~/UCB_CS189/.venv/lib/python3.12/site-packages/numpy/linalg/_linalg.py:163\u001b[39m, in \u001b[36m_raise_linalgerror_singular\u001b[39m\u001b[34m(err, flag)\u001b[39m\n\u001b[32m    162\u001b[39m \u001b[38;5;28;01mdef\u001b[39;00m\u001b[38;5;250m \u001b[39m\u001b[34m_raise_linalgerror_singular\u001b[39m(err, flag):\n\u001b[32m--> \u001b[39m\u001b[32m163\u001b[39m     \u001b[38;5;28;01mraise\u001b[39;00m LinAlgError(\u001b[33m\"\u001b[39m\u001b[33mSingular matrix\u001b[39m\u001b[33m\"\u001b[39m)\n",
      "\u001b[31mLinAlgError\u001b[39m: Singular matrix",
      "\nDuring handling of the above exception, another exception occurred:\n",
      "\u001b[31mKeyboardInterrupt\u001b[39m                         Traceback (most recent call last)",
      "\u001b[36mCell\u001b[39m\u001b[36m \u001b[39m\u001b[32mIn[341]\u001b[39m\u001b[32m, line 1\u001b[39m\n\u001b[32m----> \u001b[39m\u001b[32m1\u001b[39m predictions=\u001b[43mpredict_all_simples\u001b[49m\u001b[43m(\u001b[49m\u001b[43mtest_data\u001b[49m\u001b[43m=\u001b[49m\u001b[43mnormalized_test_data\u001b[49m\u001b[43m,\u001b[49m\u001b[43mmeans\u001b[49m\u001b[43m=\u001b[49m\u001b[43mmeans\u001b[49m\u001b[43m,\u001b[49m\u001b[43mcovariances\u001b[49m\u001b[43m=\u001b[49m\u001b[43mcovariances\u001b[49m\u001b[43m,\u001b[49m\u001b[43mprior_probs\u001b[49m\u001b[43m=\u001b[49m\u001b[43mprior_probs\u001b[49m\u001b[43m)\u001b[49m\n",
      "\u001b[36mCell\u001b[39m\u001b[36m \u001b[39m\u001b[32mIn[337]\u001b[39m\u001b[32m, line 9\u001b[39m, in \u001b[36mpredict_all_simples\u001b[39m\u001b[34m(test_data, means, covariances, prior_probs)\u001b[39m\n\u001b[32m      7\u001b[39m class_scores=[]\n\u001b[32m      8\u001b[39m \u001b[38;5;28;01mfor\u001b[39;00m k \u001b[38;5;129;01min\u001b[39;00m \u001b[38;5;28mrange\u001b[39m(\u001b[38;5;28mlen\u001b[39m(means)):\n\u001b[32m----> \u001b[39m\u001b[32m9\u001b[39m     score=\u001b[43mquadratic_func\u001b[49m\u001b[43m(\u001b[49m\u001b[43msample\u001b[49m\u001b[43m,\u001b[49m\u001b[43mmeans\u001b[49m\u001b[43m[\u001b[49m\u001b[43mk\u001b[49m\u001b[43m]\u001b[49m\u001b[43m,\u001b[49m\u001b[43mcovariances\u001b[49m\u001b[43m[\u001b[49m\u001b[43mk\u001b[49m\u001b[43m]\u001b[49m\u001b[43m,\u001b[49m\u001b[43mprior_probs\u001b[49m\u001b[43m[\u001b[49m\u001b[43mk\u001b[49m\u001b[43m]\u001b[49m\u001b[43m)\u001b[49m\n\u001b[32m     10\u001b[39m     class_scores.append(score)\n\u001b[32m     12\u001b[39m predicted_class=np.argmax(class_scores)\n",
      "\u001b[36mCell\u001b[39m\u001b[36m \u001b[39m\u001b[32mIn[336]\u001b[39m\u001b[32m, line 7\u001b[39m, in \u001b[36mquadratic_func\u001b[39m\u001b[34m(x, mean, cov, prior_prob)\u001b[39m\n\u001b[32m      5\u001b[39m     inv_cov=np.linalg.inv(cov)\n\u001b[32m      6\u001b[39m \u001b[38;5;28;01mexcept\u001b[39;00m np.linalg.LinAlgError:\n\u001b[32m----> \u001b[39m\u001b[32m7\u001b[39m     inv_cov=\u001b[43mnp\u001b[49m\u001b[43m.\u001b[49m\u001b[43mlinalg\u001b[49m\u001b[43m.\u001b[49m\u001b[43mpinv\u001b[49m\u001b[43m(\u001b[49m\u001b[43mcov\u001b[49m\u001b[43m)\u001b[49m\n\u001b[32m      8\u001b[39m quadratic_term=-\u001b[32m0.5\u001b[39m*centered_x.T\u001b[38;5;129m@inv_cov\u001b[39m\u001b[38;5;129m@centered_x\u001b[39m\n\u001b[32m     10\u001b[39m det_cov=np.linalg.det(cov)\n",
      "\u001b[36mFile \u001b[39m\u001b[32m~/UCB_CS189/.venv/lib/python3.12/site-packages/numpy/linalg/_linalg.py:2281\u001b[39m, in \u001b[36mpinv\u001b[39m\u001b[34m(a, rcond, hermitian, rtol)\u001b[39m\n\u001b[32m   2279\u001b[39m     \u001b[38;5;28;01mreturn\u001b[39;00m wrap(res)\n\u001b[32m   2280\u001b[39m a = a.conjugate()\n\u001b[32m-> \u001b[39m\u001b[32m2281\u001b[39m u, s, vt = \u001b[43msvd\u001b[49m\u001b[43m(\u001b[49m\u001b[43ma\u001b[49m\u001b[43m,\u001b[49m\u001b[43m \u001b[49m\u001b[43mfull_matrices\u001b[49m\u001b[43m=\u001b[49m\u001b[38;5;28;43;01mFalse\u001b[39;49;00m\u001b[43m,\u001b[49m\u001b[43m \u001b[49m\u001b[43mhermitian\u001b[49m\u001b[43m=\u001b[49m\u001b[43mhermitian\u001b[49m\u001b[43m)\u001b[49m\n\u001b[32m   2283\u001b[39m \u001b[38;5;66;03m# discard small singular values\u001b[39;00m\n\u001b[32m   2284\u001b[39m cutoff = rcond[..., newaxis] * amax(s, axis=-\u001b[32m1\u001b[39m, keepdims=\u001b[38;5;28;01mTrue\u001b[39;00m)\n",
      "\u001b[36mFile \u001b[39m\u001b[32m~/UCB_CS189/.venv/lib/python3.12/site-packages/numpy/linalg/_linalg.py:1862\u001b[39m, in \u001b[36msvd\u001b[39m\u001b[34m(a, full_matrices, compute_uv, hermitian)\u001b[39m\n\u001b[32m   1858\u001b[39m signature = \u001b[33m'\u001b[39m\u001b[33mD->DdD\u001b[39m\u001b[33m'\u001b[39m \u001b[38;5;28;01mif\u001b[39;00m isComplexType(t) \u001b[38;5;28;01melse\u001b[39;00m \u001b[33m'\u001b[39m\u001b[33md->ddd\u001b[39m\u001b[33m'\u001b[39m\n\u001b[32m   1859\u001b[39m \u001b[38;5;28;01mwith\u001b[39;00m errstate(call=_raise_linalgerror_svd_nonconvergence,\n\u001b[32m   1860\u001b[39m               invalid=\u001b[33m'\u001b[39m\u001b[33mcall\u001b[39m\u001b[33m'\u001b[39m, over=\u001b[33m'\u001b[39m\u001b[33mignore\u001b[39m\u001b[33m'\u001b[39m, divide=\u001b[33m'\u001b[39m\u001b[33mignore\u001b[39m\u001b[33m'\u001b[39m,\n\u001b[32m   1861\u001b[39m               under=\u001b[33m'\u001b[39m\u001b[33mignore\u001b[39m\u001b[33m'\u001b[39m):\n\u001b[32m-> \u001b[39m\u001b[32m1862\u001b[39m     u, s, vh = \u001b[43mgufunc\u001b[49m\u001b[43m(\u001b[49m\u001b[43ma\u001b[49m\u001b[43m,\u001b[49m\u001b[43m \u001b[49m\u001b[43msignature\u001b[49m\u001b[43m=\u001b[49m\u001b[43msignature\u001b[49m\u001b[43m)\u001b[49m\n\u001b[32m   1863\u001b[39m u = u.astype(result_t, copy=\u001b[38;5;28;01mFalse\u001b[39;00m)\n\u001b[32m   1864\u001b[39m s = s.astype(_realType(result_t), copy=\u001b[38;5;28;01mFalse\u001b[39;00m)\n",
      "\u001b[31mKeyboardInterrupt\u001b[39m: "
     ]
    }
   ],
   "source": [
    "predictions=predict_all_simples(test_data=normalized_test_data,means=means,covariances=covariances,prior_probs=prior_probs)"
   ]
  },
  {
   "cell_type": "code",
   "execution_count": null,
   "id": "d347bfa4",
   "metadata": {},
   "outputs": [
    {
     "data": {
      "text/plain": [
       "array([0, 0, 1, 0, 1, 0, 0, 1, 1, 1, 1, 0, 1, 1, 1, 1, 0, 0, 1, 0, 0, 1,\n",
       "       1, 0, 0, 1, 0, 0, 0, 0, 1, 0, 1, 0, 1, 1, 0, 0, 1, 0, 0, 1, 1, 0,\n",
       "       0, 0, 0, 0, 0, 1, 0, 1, 0, 0, 1, 1, 0, 1, 0, 1, 0, 0, 0, 0, 1, 1,\n",
       "       1, 0, 1, 0, 0, 1, 0, 0, 1, 0, 0, 0, 0, 0, 0, 0, 0, 0, 1, 0, 0, 1,\n",
       "       1, 1, 1, 1, 1, 1, 1, 0, 0, 1, 1, 1, 1, 0, 1, 0, 0, 0, 0, 1, 1, 0,\n",
       "       0, 0, 0, 0, 0, 0, 0, 0, 1, 1, 0, 0, 0, 0, 1, 1, 0, 0, 0, 0, 0, 1,\n",
       "       1, 0, 0, 0, 0, 0, 0, 0, 1, 0, 1, 1, 0, 0, 0, 1, 1, 0, 0, 0, 0, 0,\n",
       "       1, 0, 1, 1, 1, 0, 1, 0, 1, 1, 0, 0, 0, 0, 0, 0, 0, 0, 0, 0, 1, 0,\n",
       "       0, 0, 0, 1, 0, 1, 0, 1, 0, 0, 0, 1, 1, 0, 1, 0, 0, 0, 1, 1, 0, 1,\n",
       "       0, 1, 0, 0, 0, 1, 1, 1, 1, 0, 1, 1, 0, 1, 0, 0, 1, 1, 1, 1, 0, 0,\n",
       "       0, 0, 1, 1, 1, 1, 0, 0, 0, 0, 0, 1, 0, 0, 0, 1, 0, 0, 1, 0, 1, 0,\n",
       "       0, 0, 0, 0, 0, 0, 0, 1, 1, 0, 0, 0, 0, 0, 0, 1, 1, 1, 1, 0, 1, 0,\n",
       "       0, 1, 1, 1, 0, 1, 0, 1, 0, 1, 1, 0, 0, 1, 0, 0, 0, 0, 1, 0, 0, 1,\n",
       "       0, 1, 1, 1, 0, 1, 1, 1, 0, 1, 1, 0, 0, 0, 0, 0, 0, 1, 1, 0, 1, 1,\n",
       "       0, 1, 1, 0, 0, 0, 0, 0, 0, 1, 0, 1, 0, 1, 0, 1, 1, 1, 1, 0, 1, 0,\n",
       "       1, 0, 1, 1, 0, 0, 0, 1, 1, 1, 1, 1, 0, 1, 1, 0, 0, 0, 1, 0, 0, 0,\n",
       "       0, 0, 1, 1, 0, 0, 0, 0, 0, 1, 0, 1, 0, 0, 0, 0, 0, 1, 0, 0, 1, 0,\n",
       "       0, 1, 1, 0, 0, 1, 1, 0, 0, 0, 0, 1, 0, 1, 0, 1, 1, 0, 0, 1, 1, 0,\n",
       "       1, 0, 1, 1, 0, 0, 1, 1, 1, 0, 0, 0, 1, 1, 0, 1, 0, 1, 1, 1, 0, 0,\n",
       "       0, 1, 0, 0, 0, 0, 1, 1, 0, 1, 0, 1, 0, 1, 0, 1, 1, 1, 0, 1, 0, 0,\n",
       "       1, 1, 1, 1, 0, 1, 0, 0, 0, 0, 1, 0, 0, 1, 0, 1, 0, 0, 1, 0, 0, 0,\n",
       "       0, 1, 1, 1, 1, 0, 1, 0, 0, 0, 0, 1, 0, 1, 0, 1, 0, 0, 0, 1, 0, 0,\n",
       "       0, 0, 0, 0, 0, 1, 0, 0, 0, 0, 0, 0, 1, 1, 1, 0, 0, 0, 0, 0, 0, 0,\n",
       "       0, 0, 1, 1, 0, 0, 0, 0, 0, 0, 0, 0, 1, 0, 0, 0, 1, 0, 0, 0, 1, 1,\n",
       "       1, 1, 0, 1, 0, 0, 0, 0, 0, 1, 1, 0, 1, 0, 1, 0, 0, 0, 1, 1, 1, 1,\n",
       "       0, 1, 1, 0, 0, 0, 1, 1, 0, 0, 0, 0, 0, 0, 0, 1, 0, 1, 1, 0, 1, 0,\n",
       "       1, 1, 1, 1, 0, 0, 1, 1, 0, 0, 0, 0, 1, 1, 0, 0, 0, 0, 1, 0, 0, 0,\n",
       "       0, 0, 1, 0, 0, 0, 0, 1, 0, 0, 1, 1, 0, 1, 0, 1, 1, 0, 0, 0, 0, 1,\n",
       "       0, 1, 0, 1, 0, 1, 1, 0, 0, 0, 0, 0, 1, 1, 1, 0, 1, 1, 0, 1, 0, 1,\n",
       "       0, 0, 1, 1, 0, 0, 1, 0, 0, 0, 0, 0, 0, 0, 0, 0, 1, 0, 0, 0, 0, 0,\n",
       "       1, 0, 0, 0, 0, 0, 0, 0, 0, 1, 0, 1, 0, 0, 1, 1, 1, 1, 1, 0, 0, 0,\n",
       "       0, 0, 0, 0, 0, 0, 0, 0, 0, 0, 1, 0, 0, 0, 1, 0, 0, 1, 1, 1, 0, 0,\n",
       "       0, 1, 0, 1, 1, 0, 0, 1, 1, 1, 1, 1, 0, 1, 1, 1, 0, 1, 0, 0, 0, 1,\n",
       "       1, 1, 1, 0, 0, 0, 0, 0, 0, 0, 0, 1, 1, 1, 1, 1, 0, 0, 1, 0, 1, 0,\n",
       "       0, 0, 1, 0, 1, 1, 0, 0, 1, 1, 1, 1, 0, 1, 0, 0, 1, 1, 0, 0, 1, 0,\n",
       "       0, 1, 0, 0, 0, 0, 1, 0, 0, 0, 0, 0, 0, 0, 1, 0, 1, 0, 0, 0, 0, 0,\n",
       "       0, 1, 1, 1, 1, 1, 1, 1, 0, 0, 1, 0, 0, 1, 0, 0, 1, 0, 0, 1, 1, 1,\n",
       "       1, 0, 1, 1, 1, 1, 0, 1, 0, 1, 1, 0, 0, 1, 1, 0, 0, 1, 0, 1, 0, 1,\n",
       "       0, 0, 0, 0, 0, 1, 0, 1, 0, 0, 0, 0, 0, 0, 1, 1, 0, 0, 1, 0, 1, 1,\n",
       "       0, 0, 0, 1, 1, 1, 1, 0, 0, 1, 1, 1, 1, 0, 0, 1, 1, 0, 1, 0, 0, 1,\n",
       "       1, 0, 0, 0, 1, 0, 0, 0, 0, 0, 0, 0, 1, 0, 0, 1, 0, 0, 1, 1, 1, 1,\n",
       "       1, 0, 1, 1, 0, 0, 1, 0, 0, 0, 1, 1, 1, 1, 0, 1, 0, 0, 0, 1, 1, 1,\n",
       "       1, 0, 0, 0, 0, 0, 0, 0, 0, 0, 0, 1, 0, 0, 1, 0, 0, 1, 0, 0, 1, 0,\n",
       "       0, 0, 0, 0, 1, 1, 0, 1, 1, 1, 0, 1, 1, 0, 0, 0, 0, 0, 1, 0, 0, 1,\n",
       "       1, 0, 0, 1, 0, 0, 0, 0, 0, 1, 0, 1, 1, 1, 0, 1, 1, 0, 0, 1, 0, 0,\n",
       "       0, 1, 0, 0, 0, 1, 0, 1, 0, 1])"
      ]
     },
     "metadata": {},
     "output_type": "display_data"
    }
   ],
   "source": [
    "predictions"
   ]
  },
  {
   "cell_type": "code",
   "execution_count": null,
   "id": "6f60c3cf",
   "metadata": {},
   "outputs": [
    {
     "name": "stdout",
     "output_type": "stream",
     "text": [
      "[0 1]\n",
      "[593 407]\n"
     ]
    }
   ],
   "source": [
    "unique_labels,counts=np.unique(predictions,return_counts=True)\n",
    "print(unique_labels)\n",
    "print(counts)"
   ]
  },
  {
   "cell_type": "code",
   "execution_count": 342,
   "id": "57263d43",
   "metadata": {},
   "outputs": [],
   "source": [
    "import matplotlib.pyplot as plt"
   ]
  },
  {
   "cell_type": "code",
   "execution_count": 346,
   "id": "434f6915",
   "metadata": {},
   "outputs": [],
   "source": [
    "np.save('cov_matrix_digit_0.npy', cov_matrix)"
   ]
  }
 ],
 "metadata": {
  "kernelspec": {
   "display_name": ".venv",
   "language": "python",
   "name": "python3"
  },
  "language_info": {
   "codemirror_mode": {
    "name": "ipython",
    "version": 3
   },
   "file_extension": ".py",
   "mimetype": "text/x-python",
   "name": "python",
   "nbconvert_exporter": "python",
   "pygments_lexer": "ipython3",
   "version": "3.12.3"
  }
 },
 "nbformat": 4,
 "nbformat_minor": 5
}
